{
  "nbformat": 4,
  "nbformat_minor": 0,
  "metadata": {
    "colab": {
      "name": "week_one.ipynb",
      "provenance": [],
      "collapsed_sections": [],
      "authorship_tag": "ABX9TyORrC8IODs3RRm8OaA7+5h+",
      "include_colab_link": true
    },
    "kernelspec": {
      "name": "python3",
      "display_name": "Python 3"
    }
  },
  "cells": [
    {
      "cell_type": "markdown",
      "metadata": {
        "id": "view-in-github",
        "colab_type": "text"
      },
      "source": [
        "<a href=\"https://colab.research.google.com/github/SamHothan/python_bootcamp/blob/main/week_one.ipynb\" target=\"_parent\"><img src=\"https://colab.research.google.com/assets/colab-badge.svg\" alt=\"Open In Colab\"/></a>"
      ]
    },
    {
      "cell_type": "code",
      "metadata": {
        "colab": {
          "base_uri": "https://localhost:8080/"
        },
        "id": "CBj3bflAEza0",
        "outputId": "ea12751a-5e24-40b9-e88a-c632b15a2360"
      },
      "source": [
        "import requests\n",
        "\n",
        "response = requests.get('https://uselessfacts.jsph.pl/random.json?language=en')\n",
        "\n",
        "print(response.text)"
      ],
      "execution_count": 13,
      "outputs": [
        {
          "output_type": "stream",
          "text": [
            "{\"id\":\"b03ae1ea-c39a-47a3-928d-40fae0c797f2\",\"text\":\"There are more plastic flamingos in the U.S that there are real ones.\",\"source\":\"djtech.net\",\"source_url\":\"http:\\/\\/www.djtech.net\\/humor\\/useless_facts.htm\",\"language\":\"en\",\"permalink\":\"https:\\/\\/uselessfacts.jsph.pl\\/b03ae1ea-c39a-47a3-928d-40fae0c797f2\"}\n"
          ],
          "name": "stdout"
        }
      ]
    },
    {
      "cell_type": "code",
      "metadata": {
        "colab": {
          "base_uri": "https://localhost:8080/"
        },
        "id": "VHPlSjeyrV-r",
        "outputId": "7b98656d-8aaa-4f9c-d1ea-60bd090d7dd4"
      },
      "source": [
        "query_parameters={\n",
        "    'language' : 'en'\n",
        "}\n",
        "\n",
        "response = requests.get('https://uselessfacts.jsph.pl/random.json', params=query_parameters)\n",
        "\n",
        "print(response.json().get('text'))"
      ],
      "execution_count": 19,
      "outputs": [
        {
          "output_type": "stream",
          "text": [
            "Los Angeles` full name `El Pueblo de Nuestra Senora la Reina de Los Angeles de Porciuncula` is reduced to 3.63% of its size in the abbreviation `L.A.`.\n"
          ],
          "name": "stdout"
        }
      ]
    },
    {
      "cell_type": "markdown",
      "metadata": {
        "id": "i6V4XSy6uMLu"
      },
      "source": [
        "# Data Structures\n",
        "The **important** ones are lists, dictionaries, and sets."
      ]
    },
    {
      "cell_type": "code",
      "metadata": {
        "colab": {
          "base_uri": "https://localhost:8080/"
        },
        "id": "kNhHrADktuMa",
        "outputId": "25ede55b-0350-4c95-ac83-ff50df29ab23"
      },
      "source": [
        "data = ['Sam','You']\n",
        "print(data[1])\n",
        "\n",
        "data.append('Jimmy')\n",
        "data.append(['hello'])\n",
        "data.append(5)\n",
        "\n",
        "print(data)"
      ],
      "execution_count": 30,
      "outputs": [
        {
          "output_type": "stream",
          "text": [
            "You\n",
            "['Sam', 'You', 'Jimmy', ['hello'], 5]\n"
          ],
          "name": "stdout"
        }
      ]
    },
    {
      "cell_type": "markdown",
      "metadata": {
        "id": "sHtF0Zppvrid"
      },
      "source": [
        "##List Slicing\n",
        "first number - starting number (inclusive).  \n",
        "second number - stopping position (exlusive).  \n",
        "third number - step.    "
      ]
    },
    {
      "cell_type": "code",
      "metadata": {
        "colab": {
          "base_uri": "https://localhost:8080/"
        },
        "id": "sVpDjm-2vOTH",
        "outputId": "31fdd95d-2cbd-4382-c157-5257d0fbee63"
      },
      "source": [
        "data = ['Caleb', 'Jimmy', 'Sam', 'Monica']\n",
        "\n",
        "print(data[1:4:2])\n"
      ],
      "execution_count": 29,
      "outputs": [
        {
          "output_type": "execute_result",
          "data": {
            "text/plain": [
              "['Jimmy', 'Monica']"
            ]
          },
          "metadata": {
            "tags": []
          },
          "execution_count": 29
        }
      ]
    },
    {
      "cell_type": "markdown",
      "metadata": {
        "id": "trR_N8OMwBXh"
      },
      "source": [
        "##Dictionaries and Sets"
      ]
    },
    {
      "cell_type": "code",
      "metadata": {
        "colab": {
          "base_uri": "https://localhost:8080/"
        },
        "id": "7ufgWufEwAgZ",
        "outputId": "23be3eff-fb2c-41c0-eca3-ba0aa5c39d75"
      },
      "source": [
        "data = {'Caleb', 'Jimmy', 'Samantha', 'Monica', 'Caleb'}\n",
        "\n",
        "data_dictionary = {\n",
        "    'Caleb' : 5,\n",
        "    'Jimmy' : 10,\n",
        "    'Samantha' : 12,\n",
        "    'Monica' : 20,\n",
        "}\n",
        "print(data)\n",
        "print(data_dictionary.get('Caleb'))"
      ],
      "execution_count": 32,
      "outputs": [
        {
          "output_type": "stream",
          "text": [
            "{'Jimmy', 'Samantha', 'Monica', 'Caleb'}\n",
            "5\n"
          ],
          "name": "stdout"
        }
      ]
    },
    {
      "cell_type": "markdown",
      "metadata": {
        "id": "nLplhq4BwnZp"
      },
      "source": [
        "#Control flow - Loops and Conditionals\n",
        "\n",
        "Iteration - One time through the loop.  "
      ]
    },
    {
      "cell_type": "code",
      "metadata": {
        "colab": {
          "base_uri": "https://localhost:8080/"
        },
        "id": "xcDm6AfPwsBH",
        "outputId": "de9b9df2-d013-4e29-e0cd-2237e12e1441"
      },
      "source": [
        "data = ['a', 'b', 'c', 'd', 'e']\n",
        "\n",
        "for i in range(len(data)):\n",
        "  print(data[i], end=\"  \")\n",
        "  #increased here\n",
        "  #this method is more often used to modify lists\n",
        "print(\" \")\n",
        "for letter in data:\n",
        "  print(letter, end=\"  \")\n",
        "  #this type is preferred\n",
        "print(\" \")\n",
        "for i, letter in enumerate(data):\n",
        "  print(i, letter, end=\"  \")"
      ],
      "execution_count": 39,
      "outputs": [
        {
          "output_type": "stream",
          "text": [
            "a  b  c  d  e   \n",
            "a  b  c  d  e   \n",
            "0 a  1 b  2 c  3 d  4 e  "
          ],
          "name": "stdout"
        }
      ]
    },
    {
      "cell_type": "code",
      "metadata": {
        "colab": {
          "base_uri": "https://localhost:8080/"
        },
        "id": "s2N8Z8ETzMDw",
        "outputId": "5cc3ebce-ef20-4ae2-b404-24e8c9347edc"
      },
      "source": [
        "data = ['a', 'b', 'c', 'd', 'e']\n",
        "\n",
        "i = 0\n",
        "\n",
        "while i < len(data):\n",
        "  print(data[i], end=\" \")\n",
        "  i += 1\n",
        "\n",
        "while True:\n",
        "  x = input()\n",
        "  if x == \"stop\":\n",
        "    break\n",
        "  elif x == \"special\":\n",
        "    continue\n",
        "  else:\n",
        "  print(\"it wasn't stop or special\")\n",
        "  print(\"printing data...\")"
      ],
      "execution_count": 45,
      "outputs": [
        {
          "output_type": "stream",
          "text": [
            "a b c d e hello\n",
            "it wasn't stop or special\n",
            "printing data...\n",
            "stop\n"
          ],
          "name": "stdout"
        }
      ]
    },
    {
      "cell_type": "code",
      "metadata": {
        "colab": {
          "base_uri": "https://localhost:8080/"
        },
        "id": "yMbQ8wqz0jp3",
        "outputId": "d15464d1-c251-4eea-c222-489d17e1ca3c"
      },
      "source": [
        "data_dictionary = {\n",
        "    'Caleb' : 5,\n",
        "    'Jimmy' : 10,\n",
        "    'Samantha' : 12,\n",
        "    'Monica' : 20,\n",
        "}\n",
        "\n",
        "for key, value in data_dictionary.items():\n",
        " # if value == 12:\n",
        "   # print('we found 12')\n",
        "   # break\n",
        "  print(key, value)"
      ],
      "execution_count": 48,
      "outputs": [
        {
          "output_type": "stream",
          "text": [
            "Caleb 5\n",
            "Jimmy 10\n",
            "we found 12\n"
          ],
          "name": "stdout"
        }
      ]
    },
    {
      "cell_type": "markdown",
      "metadata": {
        "id": "77qjhrRx1Jqw"
      },
      "source": [
        "# Guessing Game\n",
        "\n",
        "Generate a random number -- random module  \n",
        "do while - Python doesn't have this built in.  \n",
        "do something once - possibly repeat it.  \n",
        "Ask us for a number. If we get it wrong, ask again.  \n",
        "logic for right / wrong: guessed == correct value"
      ]
    },
    {
      "cell_type": "code",
      "metadata": {
        "id": "5u3R80_W1bkk"
      },
      "source": [
        "from random import randint\n",
        "\n",
        "print(\"Please enter the maximum number\")\n",
        "difficulty = int(input())\n",
        "\n",
        "correct = randint(0, difficulty)\n",
        "\n",
        "while True:\n",
        "  print(\"Please guess the number\")\n",
        "  guessed = int(input())\n",
        "  if guessed > difficulty:\n",
        "    print(\"Error, out of bounds\")\n",
        "  elif guessed < correct:\n",
        "    print(\"Guess Higher\")\n",
        "  elif guessed > correct:\n",
        "    print(\"Guess Lower\")\n",
        "  else:\n",
        "   print(\"You win!\")\n",
        "   break\n",
        "  "
      ],
      "execution_count": null,
      "outputs": []
    }
  ]
}